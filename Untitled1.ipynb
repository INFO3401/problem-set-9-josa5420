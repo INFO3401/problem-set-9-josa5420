{
 "cells": [
  {
   "cell_type": "code",
   "execution_count": 1,
   "metadata": {
    "collapsed": true
   },
   "outputs": [],
   "source": [
    "class Parser:\n",
    "    def __init__(self, type):\n",
    "        self.type = type\n",
    "        self.data = []\n",
    "        \n",
    "    def parseFile(self, filename):\n",
    "        if (self.type == \"csv\"):\n",
    "            reader = csv.reader(open(filename))\n",
    "            for row in reader:\n",
    "                self.data.append(row)\n",
    "        else:\n",
    "            self.data = open(filename).read()\n"
   ]
  },
  {
   "cell_type": "code",
   "execution_count": 3,
   "metadata": {},
   "outputs": [
    {
     "ename": "NameError",
     "evalue": "name 'csv' is not defined",
     "output_type": "error",
     "traceback": [
      "\u001b[0;31m---------------------------------------------------------------------------\u001b[0m",
      "\u001b[0;31mNameError\u001b[0m                                 Traceback (most recent call last)",
      "\u001b[0;32m<ipython-input-3-7b23a2f21828>\u001b[0m in \u001b[0;36m<module>\u001b[0;34m()\u001b[0m\n\u001b[1;32m      1\u001b[0m \u001b[0mdataParser\u001b[0m \u001b[0;34m=\u001b[0m \u001b[0mParser\u001b[0m\u001b[0;34m(\u001b[0m\u001b[0;34m'csv'\u001b[0m\u001b[0;34m)\u001b[0m\u001b[0;34m\u001b[0m\u001b[0m\n\u001b[0;32m----> 2\u001b[0;31m \u001b[0mdataParser\u001b[0m\u001b[0;34m.\u001b[0m\u001b[0mparseFile\u001b[0m\u001b[0;34m(\u001b[0m\u001b[0;34m'sotuAddress.csv'\u001b[0m\u001b[0;34m)\u001b[0m\u001b[0;34m\u001b[0m\u001b[0m\n\u001b[0m",
      "\u001b[0;32m<ipython-input-1-0e94a3eb7789>\u001b[0m in \u001b[0;36mparseFile\u001b[0;34m(self, filename)\u001b[0m\n\u001b[1;32m      6\u001b[0m     \u001b[0;32mdef\u001b[0m \u001b[0mparseFile\u001b[0m\u001b[0;34m(\u001b[0m\u001b[0mself\u001b[0m\u001b[0;34m,\u001b[0m \u001b[0mfilename\u001b[0m\u001b[0;34m)\u001b[0m\u001b[0;34m:\u001b[0m\u001b[0;34m\u001b[0m\u001b[0m\n\u001b[1;32m      7\u001b[0m         \u001b[0;32mif\u001b[0m \u001b[0;34m(\u001b[0m\u001b[0mself\u001b[0m\u001b[0;34m.\u001b[0m\u001b[0mtype\u001b[0m \u001b[0;34m==\u001b[0m \u001b[0;34m\"csv\"\u001b[0m\u001b[0;34m)\u001b[0m\u001b[0;34m:\u001b[0m\u001b[0;34m\u001b[0m\u001b[0m\n\u001b[0;32m----> 8\u001b[0;31m             \u001b[0mreader\u001b[0m \u001b[0;34m=\u001b[0m \u001b[0mcsv\u001b[0m\u001b[0;34m.\u001b[0m\u001b[0mreader\u001b[0m\u001b[0;34m(\u001b[0m\u001b[0mopen\u001b[0m\u001b[0;34m(\u001b[0m\u001b[0mfilename\u001b[0m\u001b[0;34m)\u001b[0m\u001b[0;34m)\u001b[0m\u001b[0;34m\u001b[0m\u001b[0m\n\u001b[0m\u001b[1;32m      9\u001b[0m             \u001b[0;32mfor\u001b[0m \u001b[0mrow\u001b[0m \u001b[0;32min\u001b[0m \u001b[0mreader\u001b[0m\u001b[0;34m:\u001b[0m\u001b[0;34m\u001b[0m\u001b[0m\n\u001b[1;32m     10\u001b[0m                 \u001b[0mself\u001b[0m\u001b[0;34m.\u001b[0m\u001b[0mdata\u001b[0m\u001b[0;34m.\u001b[0m\u001b[0mappend\u001b[0m\u001b[0;34m(\u001b[0m\u001b[0mrow\u001b[0m\u001b[0;34m)\u001b[0m\u001b[0;34m\u001b[0m\u001b[0m\n",
      "\u001b[0;31mNameError\u001b[0m: name 'csv' is not defined"
     ]
    }
   ],
   "source": [
    "dataParser = Parser('csv')\n",
    "dataParser.parseFile('sotuAddress.csv')"
   ]
  },
  {
   "cell_type": "markdown",
   "metadata": {},
   "source": [
    "Monday: \n",
    "\n",
    "Submit the following functions as part of a file called regressionAnalysis.py. You will use this data to make some predictions about the nutritional aspects of various popular Halloween candies. Your code will contain three objects: "
   ]
  },
  {
   "cell_type": "markdown",
   "metadata": {},
   "source": [
    "(a) AnalysisData, which will have, at a minimum, attributes called dataset (which holds the parsed dataset) and variables (which will hold a list containing the indexes for all of the variables in your data). \n",
    "\n",
    "(b) LinearAnalysis, which will contain your functions for doing linear regression and have at a minimum attributes called bestX (which holds the best X predictor for your data), targetY (which holds the index to the target dependent variable), and fit (which will hold how well bestX predicts your target variable).\n",
    "\n",
    "(c) LogisticAnalysis, which will contain your functions for doing logistic regression and have at a minimum attributes called bestX (which holds the best X predictor for your data), targetY (which holds the index to the target dependent variable), and fit (which will hold how well bestX predicts your target variable)."
   ]
  },
  {
   "cell_type": "code",
   "execution_count": 1,
   "metadata": {
    "collapsed": true
   },
   "outputs": [],
   "source": []
  },
  {
   "cell_type": "code",
   "execution_count": 153,
   "metadata": {
    "collapsed": true
   },
   "outputs": [],
   "source": [
    "\"\"\"\"from sklearn.linear_model import LinearRegression\n",
    "from sklearn.linear_model import LogisticRegression\n",
    "from sklearn.metrics import r2_score\n",
    "import pandas as pd\n",
    "class AnalysisData:\n",
    "    def __init__(self, dataset):\n",
    "        self.dataset = dataset   #Which holds the parsed dataset\n",
    "        self.variables = [i for i in self.dataset.columns if i != 'competitorname']#.remove('competitorname') #which will hold a list containing the indexes for all of the variables in your data\n",
    "        self.targetY = \"\"\n",
    "    \n",
    "    def setTargetY(self, a):\n",
    "        self.targetY = a\n",
    "    \n",
    "class LinearAnalysis: #will contain your functions for doing linear regression\n",
    "    def __init__(self, targetY):\n",
    "        self.bestX = 0#bestX #holds the best X predictor for data\n",
    "        self.targetY = targetY#targetY #holds the index to the target dependent variable\n",
    "        self.fit = 0 #fit  #will hold how well bestX predicts target variable\n",
    "    def runSimpleAnalysis(self,t):\n",
    "        acc = 0\n",
    "        var = \"\"\n",
    "        test = [i for i in t.variables if i != self.targetY]\n",
    "        for i in test:\n",
    "            regr = LinearRegression()\n",
    "            regr.fit(t.dataset[i].reshape(-1,1),t.dataset[self.targetY].reshape(-1,1))\n",
    "            predict = regr.predict(t.dataset[i].reshape(-1,1))\n",
    "            a = r2_score(t.dataset[self.targetY].reshape(-1,1), predict)\n",
    "            print(a)\n",
    "            if a > acc:\n",
    "                acc = a\n",
    "                var = i\n",
    "        print(str(var)+\": \"+str(acc))\n",
    "        \n",
    "    \n",
    "class LogisticAnalysis: #will contain your functions for doing logistic regression\n",
    "    def __init__(self, targetY):\n",
    "        self.bestX = 0#bestX #holds the best X predictor for data\n",
    "        self.targetY = targetY#targetY #holds the index to the target dependent variable\n",
    "        self.fit = 0#fit  #will hold how well bestX predicts target variable\n",
    "    def runSimpleAnalysis(self,t):\n",
    "        acc = 0\n",
    "        var = \"\"\n",
    "        test = [i for i in t.variables if i != self.targetY]\n",
    "        for i in test:\n",
    "            regr = LogisticRegression()\n",
    "            regr.fit(t.dataset[i].astype(int).reshape(-1,1),t.dataset[self.targetY].astype(int).reshape(-1,1))\n",
    "            predict = regr.predict(t.dataset[i].reshape(-1,1))\n",
    "            a = r2_score(t.dataset[self.targetY].reshape(-1,1), predict)\n",
    "            if a > acc:\n",
    "                acc = a\n",
    "                var = i\n",
    "        print(str(var)+\": \"+str(acc))\n",
    "        \n",
    "        "
   ]
  },
  {
   "cell_type": "code",
   "execution_count": 123,
   "metadata": {},
   "outputs": [
    {
     "name": "stdout",
     "output_type": "stream",
     "text": [
      "sugarpercent\n"
     ]
    }
   ],
   "source": [
    "df = pd.read_csv('candy-data.csv')\n",
    "AD1 = AnalysisData(df)\n",
    "AD1.setTargetY('sugarpercent')\n",
    "print(AD1.targetY)"
   ]
  },
  {
   "cell_type": "markdown",
   "metadata": {},
   "source": [
    "4 Add a function to the LogisticAnalysis object called runSimpleAnalysis. This function should take in an AnalysisData object as a parameter and should use this object to compute which variable best predicts whether or not a candy is chocolate using logistic regression. Print the variable name and the resulting fit. Do the two functions find the same optimal variable? Which method best fits this data? Make sure your best predictor is NOT the same as the targetY variable."
   ]
  },
  {
   "cell_type": "markdown",
   "metadata": {},
   "source": [
    "LA1 = LogisticAnalysis(AD1.targetY)\n",
    "LA1.runSimpleAnalysis(AD1)"
   ]
  },
  {
   "cell_type": "markdown",
   "metadata": {},
   "source": [
    "3 Add a function to the LinearAnalysis object called runSimpleAnalysis. This function should take in an AnalysisData object as a parameter and should use this object to compute which variable best predicts how much sugar a candy contains using a linear regression. Print the variable name and the resulting fit."
   ]
  },
  {
   "cell_type": "markdown",
   "metadata": {},
   "source": [
    "LA1 = LinearAnalysis(AD1.targetY)\n",
    "LA1.runSimpleAnalysis(AD1)"
   ]
  },
  {
   "cell_type": "code",
   "execution_count": null,
   "metadata": {
    "collapsed": true
   },
   "outputs": [],
   "source": []
  },
  {
   "cell_type": "markdown",
   "metadata": {},
   "source": [
    "1 Using the candy-data.csv file in the repo, populate an AnalysisData object that will hold the data you'll use for today's problem set. You should read in the data from the CSV, store the data in the dataset variable, and initialize the xs (in your variables attribute) and targetY variables appropriately. targetY should reference the variable describing whether or not a candy is chocolate."
   ]
  },
  {
   "cell_type": "markdown",
   "metadata": {},
   "source": [
    "2 Create a function to initialize a LinearAnalysis object that takes a targetY as its input parameter. Create the same function for LogisticAnalysis. Note that you will use the LinearAnalysis object to try to predict the amount of sugar in the candy and the LogisticAnalysis object to predict whether or not the candy is chocolate."
   ]
  },
  {
   "cell_type": "code",
   "execution_count": 7,
   "metadata": {},
   "outputs": [
    {
     "data": {
      "text/plain": [
       "'chocolate'"
      ]
     },
     "execution_count": 7,
     "metadata": {},
     "output_type": "execute_result"
    }
   ],
   "source": []
  },
  {
   "cell_type": "markdown",
   "metadata": {},
   "source": [
    "5 Add a function to the LogisticAnalysis object called runMultipleRegression. This function should take in an AnalysisData object as a parameter and should use this object to compute a multiple logistic regression using all of the possible independent variables in your dataset to predict whether or not a candy is chocolate (note, you should not use your dependent variable as an independent variable). Print the variable name and resulting fit. In your testing code, create a new LogisticAnalysis object and use it to run this function on your candy data. Compare the outcomes of this and the simple logistic analysis. Which model best fits the data? Why? "
   ]
  },
  {
   "cell_type": "code",
   "execution_count": 157,
   "metadata": {},
   "outputs": [
    {
     "data": {
      "text/plain": [
       "0     1\n",
       "1     1\n",
       "2     0\n",
       "3     0\n",
       "4     0\n",
       "5     1\n",
       "6     1\n",
       "7     0\n",
       "8     0\n",
       "9     0\n",
       "10    1\n",
       "11    0\n",
       "12    0\n",
       "13    0\n",
       "14    0\n",
       "15    0\n",
       "16    0\n",
       "17    0\n",
       "18    0\n",
       "19    0\n",
       "20    0\n",
       "21    0\n",
       "22    1\n",
       "23    1\n",
       "24    1\n",
       "25    1\n",
       "26    0\n",
       "27    1\n",
       "28    1\n",
       "29    0\n",
       "     ..\n",
       "55    0\n",
       "56    1\n",
       "57    0\n",
       "58    0\n",
       "59    1\n",
       "60    0\n",
       "61    0\n",
       "62    1\n",
       "63    0\n",
       "64    1\n",
       "65    1\n",
       "66    0\n",
       "67    0\n",
       "68    0\n",
       "69    0\n",
       "70    0\n",
       "71    0\n",
       "72    0\n",
       "73    0\n",
       "74    1\n",
       "75    1\n",
       "76    1\n",
       "77    1\n",
       "78    0\n",
       "79    1\n",
       "80    0\n",
       "81    0\n",
       "82    0\n",
       "83    0\n",
       "84    1\n",
       "Name: chocolate, Length: 85, dtype: int64"
      ]
     },
     "execution_count": 157,
     "metadata": {},
     "output_type": "execute_result"
    }
   ],
   "source": [
    "AD1.dataset['chocolate'].astype(int)"
   ]
  },
  {
   "cell_type": "code",
   "execution_count": 131,
   "metadata": {},
   "outputs": [
    {
     "name": "stderr",
     "output_type": "stream",
     "text": [
      "/anaconda3/lib/python3.6/site-packages/ipykernel_launcher.py:1: FutureWarning: reshape is deprecated and will raise in a subsequent release. Please use .values.reshape(...) instead\n",
      "  \"\"\"Entry point for launching an IPython kernel.\n"
     ]
    },
    {
     "data": {
      "text/plain": [
       "numpy.ndarray"
      ]
     },
     "execution_count": 131,
     "metadata": {},
     "output_type": "execute_result"
    }
   ],
   "source": [
    "type(AD1.dataset['chocolate'].reshape(-1,1))"
   ]
  },
  {
   "cell_type": "code",
   "execution_count": null,
   "metadata": {
    "collapsed": true
   },
   "outputs": [],
   "source": []
  }
 ],
 "metadata": {
  "kernelspec": {
   "display_name": "Python 3",
   "language": "python",
   "name": "python3"
  },
  "language_info": {
   "codemirror_mode": {
    "name": "ipython",
    "version": 3
   },
   "file_extension": ".py",
   "mimetype": "text/x-python",
   "name": "python",
   "nbconvert_exporter": "python",
   "pygments_lexer": "ipython3",
   "version": "3.6.3"
  }
 },
 "nbformat": 4,
 "nbformat_minor": 2
}
